{
  "nbformat": 4,
  "nbformat_minor": 0,
  "metadata": {
    "colab": {
      "provenance": [],
      "gpuType": "T4",
      "authorship_tag": "ABX9TyPJcKlOgsSe5M80rSyMfrHd",
      "include_colab_link": true
    },
    "kernelspec": {
      "name": "python3",
      "display_name": "Python 3"
    },
    "language_info": {
      "name": "python"
    },
    "accelerator": "GPU"
  },
  "cells": [
    {
      "cell_type": "markdown",
      "metadata": {
        "id": "view-in-github",
        "colab_type": "text"
      },
      "source": [
        "<a href=\"https://colab.research.google.com/github/VMutafchiev/LLMs/blob/main/Hermes_3_0_0.ipynb\" target=\"_parent\"><img src=\"https://colab.research.google.com/assets/colab-badge.svg\" alt=\"Open In Colab\"/></a>"
      ]
    },
    {
      "cell_type": "code",
      "execution_count": null,
      "metadata": {
        "colab": {
          "base_uri": "https://localhost:8080/"
        },
        "id": "O-4OWnXWDRcE",
        "outputId": "cb8b6da8-0346-40d0-dc6a-c4306c1d71c5"
      },
      "outputs": [
        {
          "output_type": "stream",
          "name": "stdout",
          "text": [
            "\u001b[33mWARNING: Running pip as the 'root' user can result in broken permissions and conflicting behaviour with the system package manager. It is recommended to use a virtual environment instead: https://pip.pypa.io/warnings/venv\u001b[0m\u001b[33m\n",
            "\u001b[0m\u001b[33mWARNING: Running pip as the 'root' user can result in broken permissions and conflicting behaviour with the system package manager. It is recommended to use a virtual environment instead: https://pip.pypa.io/warnings/venv\u001b[0m\u001b[33m\n",
            "\u001b[0m\u001b[33mWARNING: Running pip as the 'root' user can result in broken permissions and conflicting behaviour with the system package manager. It is recommended to use a virtual environment instead: https://pip.pypa.io/warnings/venv\u001b[0m\u001b[33m\n",
            "\u001b[0m\u001b[33mWARNING: Running pip as the 'root' user can result in broken permissions and conflicting behaviour with the system package manager. It is recommended to use a virtual environment instead: https://pip.pypa.io/warnings/venv\u001b[0m\u001b[33m\n",
            "\u001b[0m\u001b[33mWARNING: Running pip as the 'root' user can result in broken permissions and conflicting behaviour with the system package manager. It is recommended to use a virtual environment instead: https://pip.pypa.io/warnings/venv\u001b[0m\u001b[33m\n",
            "\u001b[0m\u001b[33mWARNING: Running pip as the 'root' user can result in broken permissions and conflicting behaviour with the system package manager. It is recommended to use a virtual environment instead: https://pip.pypa.io/warnings/venv\u001b[0m\u001b[33m\n",
            "\u001b[0m\u001b[33mWARNING: Running pip as the 'root' user can result in broken permissions and conflicting behaviour with the system package manager. It is recommended to use a virtual environment instead: https://pip.pypa.io/warnings/venv\u001b[0m\u001b[33m\n",
            "\u001b[0m\u001b[33mWARNING: Running pip as the 'root' user can result in broken permissions and conflicting behaviour with the system package manager. It is recommended to use a virtual environment instead: https://pip.pypa.io/warnings/venv\u001b[0m\u001b[33m\n",
            "\u001b[0m\u001b[33mWARNING: Running pip as the 'root' user can result in broken permissions and conflicting behaviour with the system package manager. It is recommended to use a virtual environment instead: https://pip.pypa.io/warnings/venv\u001b[0m\u001b[33m\n",
            "\u001b[0m"
          ]
        }
      ],
      "source": [
        "!pip install -Uqqq pip --progress-bar off\n",
        "!pip install -qqq langchain==0.0.228 --progress-bar off\n",
        "!pip install -qqq chromadb==0.3.26 --progress-bar off\n",
        "!pip install -qqq sentence-transformers==2.2.2 --progress-bar off\n",
        "!pip install -qqq auto-gptq==0.2.2 --progress-bar off\n",
        "!pip install -qqq einops==0.6.1 --progress-bar off\n",
        "!pip install -qqq unstructured==0.8.0 --progress-bar off\n",
        "!pip install -qqq transformers==4.30.2 --progress-bar off\n",
        "!pip install -qqq torch==2.0.1 --progress-bar off"
      ]
    },
    {
      "cell_type": "code",
      "source": [
        "from pathlib import Path\n",
        "\n",
        "import torch\n",
        "from auto_gptq import AutoGPTQForCausalLM\n",
        "from langchain.chains import ConversationalRetrievalChain\n",
        "from langchain.chains.question_answering import load_qa_chain\n",
        "from langchain.document_loaders import DirectoryLoader\n",
        "from langchain.embeddings import HuggingFaceEmbeddings\n",
        "from langchain.llms import HuggingFacePipeline\n",
        "from langchain.memory import ConversationBufferMemory\n",
        "from langchain.prompts import PromptTemplate\n",
        "from langchain.text_splitter import CharacterTextSplitter\n",
        "from langchain.vectorstores import Chroma\n",
        "from transformers import AutoTokenizer, GenerationConfig, TextStreamer, pipeline\n",
        "\n",
        "from transformers import AutoTokenizer, pipeline, logging\n",
        "from auto_gptq import AutoGPTQForCausalLM, BaseQuantizeConfig\n",
        "import argparse\n",
        "\n",
        "from sentence_transformers import SentenceTransformer\n",
        "\n",
        "import warnings"
      ],
      "metadata": {
        "id": "tDpYPHSVDkRo"
      },
      "execution_count": null,
      "outputs": []
    },
    {
      "cell_type": "code",
      "source": [
        "questions_dir = Path(\"tlc\")\n",
        "questions_dir.mkdir(exist_ok=True, parents=True)\n",
        "\n",
        "def write_file(question, answer, file_path):\n",
        "    text = f\"\"\"\n",
        "Q: {question}\n",
        "A: {answer}\n",
        "\"\"\".strip()\n",
        "    with Path(questions_dir / file_path).open(\"w\") as text_file:\n",
        "        text_file.write(text)"
      ],
      "metadata": {
        "id": "-RdLTPYcDp4W"
      },
      "execution_count": null,
      "outputs": []
    },
    {
      "cell_type": "code",
      "source": [
        "write_file(\n",
        "    question=\"It is safe to use thinkorswim ® Sharing?\",\n",
        "    answer=\"\"\"In designing the thinkorswim sharing system, we were very aware of the security concerns some users may have so we took several steps to ensure your data is protected. The technology for sharing has been built into thinkorswim since early 2013; we have performed an internal security review and all of the data required to create the Sharing links is handled by our technology via our secure backend servers, not on your local computer or the public Internet. Only data that is validly shared from inside the thinkorswim application can be communicated via the sharing links themselves.\n",
        "\n",
        "When a user clicks on a Shared link, the only information that is passed from the browser to the thinkorswim application is the sharing link pointer; all other data is delivered by our secure servers directly to the thinkorswim application. This ensures only valid data is retrieved and shared. Your account and other personal information is not shared, but if you have a public MyTrade profile then that public display name is used.\n",
        "\n",
        "myTrade is a service of myTrade, Inc., a separate but affiliated firm. TD Ameritrade is not responsible for the services of myTrade, or content shared through the service.\"\"\".strip(),\n",
        "    file_path=\"qiestion_1.txt\",\n",
        ")\n",
        "write_file(\n",
        "    question=\"How do I delete a thinkorswim ® Sharing link?\",\n",
        "    answer=\"\"\"All thinkorswim Sharing links cannot be redirected or deleted. If you'd like to remove a link from your thinkorswim platform, go to the Tools tab> Shared Items > and you can click on the 'X' next to the link you wish to remove. ‘Removing’ means you will no longer find the thinkorswim Sharing link in the \"Shared Items\" view.\"\"\".strip(),\n",
        "    file_path=\"question_2.txt\",\n",
        ")\n",
        "\n",
        "write_file(\n",
        "    question=\"How do I add/remove a gadget to the sidebar?\",\n",
        "    answer=\"\"\"To add another gadget, click on the \"Plus\" button at the lower left of the left-hand sidebar. This will open the “Select Gadget” menu. Click on any gadget name to add it to the left-hand sidebar. To change an existing gadget to a different type, click on the “Show Actions Menu\" icon at the upper right of its top-right corner.\n",
        "\n",
        "More info on the left sidebar\"\"\".strip(),\n",
        "    file_path=\"qiestion_3.txt\",\n",
        ")\n",
        "\n",
        "write_file(\n",
        "    question=\"How do I switch between accounts?\",\n",
        "    answer=\"\"\"At the upper left of the main thinkorswim window, there is a pane that says “Account”. Using the drop-down menu there, you can switch between any account linked to your current user name or a total account view which links every account for that user.\"\"\".strip(),\n",
        "    file_path=\"qiestion_4.txt\",\n",
        ")\n",
        "\n",
        "write_file(\n",
        "    question=\"How do I hide account information?\",\n",
        "    answer=\"\"\"If you are in a semi-public location or showing the platform to a friend, you do have the option to hide your personal financial data while still using the platform. To activate this feature, click on the down arrow to the right of your “Option Buying Power” or “Net Liq & Day Trades” in the “ACCOUNT INFO” panel. In the screen that pops-up, there is a switch towards the upper right that says “PRIVACY”. Click the switch, and all of your specific account data will be hidden throughout the platform. Click the switch again to restore the values.\n",
        "\n",
        "More info on Account Info\"\"\".strip(),\n",
        "    file_path=\"qiestion_5.txt\",\n",
        ")\n",
        "write_file(\n",
        "    question=\"How do I import/create/delete/edit watchlists?\",\n",
        "    answer=\"\"\"The watchlists that you have created in any other TD Ameritrade platform should be visible within the thinkorswim trading platform. For example, if you have created a watchlist on the website, it should appear under the “Personal” section of your watchlists. To create a new watchlist click on the MarketWatch Tab, and click on “Quotes.\" Click on \"Show Actions Menu\" icon at the upper right-hand corner of the sub-tab and select the option to Create Watchlist. In the next window, you will be prompted to input a name for your watchlist. You can either add the ticker symbols you wish to monitor manually by typing the symbol in the blank box or paste symbols from the clipboard. You can also upload a .CSV or Excel file, then click import. Once you are done, click Save.\n",
        "\n",
        "More info on watchlists\"\"\".strip(),\n",
        "    file_path=\"qiestion_6.txt\",\n",
        ")\n",
        "write_file(\n",
        "    question=\"How to sort, unsort, and customize watchlists?\",\n",
        "    answer=\"\"\"You are able to click and drag any security to where you wish within the watchlist. To sort the list in ascending order (A-Z) for example, left click on the column header “Symbol” directly below the title of the watchlist. To unsort the list, left click the tab “Symbol” again. If the list is sorted in ascending order a shaded gray arrow in the tab “Symbol” will be pointing up. The arrow will be pointing down if the list is sorted in descending order (Z-A). This rule applies to any of the column headers on the list.\n",
        "\n",
        "\n",
        "To customize the columns, right click on any of the column headers to reveal a dropdown. Select “Customize” and a window will appear with a selection of available columns on the left side. To add a column, select the column title you prefer and then click the “Add Item” button below the list. To remove an item from your current set of columns, select the column title you prefer and then click the “Remove Item\" button below the list. You can load the default columns by clicking the “Load Defaults” button on the upper right of the window. The “Restore” button will reload the column set you started with at the time you opened the customization window. When you are done making changes, click \"OK\".\n",
        "\n",
        "More info on watchlists:\"\"\".strip(),\n",
        "    file_path=\"qiestion_7.txt\",\n",
        ")\n",
        "write_file(\n",
        "    question=\"Can I get rid of the left sidebar or get it back?\",\n",
        "    answer=\"\"\"Certainly. If you look at the vertical bar dividing the left sidebar from the rest of the platform, in the center, there is a small arrow pointing left. Click on this arrow and your sidebar will be minimized until this arrow is clicked again.\n",
        "\n",
        "More info on the left sidebar: HERE.\n",
        "Where do I find the messages that popped up (reject messages, chat room alerts, etc.)?\n",
        "\n",
        "To find previous messages, click on the envelope icon labeled “Messages” at the top left corner of the screen.\n",
        "\n",
        "Additionally, you can view your messages in the Message Center gadget on the left sidebar. More info on the Message Center:\"\"\".strip(),\n",
        "    file_path=\"qiestion_8.txt\",\n",
        ")\n",
        "write_file(\n",
        "    question=\"What resources do you offer to help me learn the platform?\",\n",
        "    answer=\"\"\"We offer a variety of resources, you can find educational content by clicking on the “Education” tab (Access by clicking Education>Learning Center), in addition to the “Help” tab of the platform (Access by clicking Help>Contact Us). Depending on how you like to receive content, one or a combination of the following should offer the information you need to maximize the power of this award-winning platform:\n",
        "\n",
        "\n",
        "1.    User Manual- the User Manual is a 50+ page document that will walk you through all the ins and outs of the platform. Learn how to trade, monitor, analyze, find trading opportunities, and customize your trading experience. To access the manual, click HERE.\n",
        "2.    Video Tutorials, Articles, and Glossary. All found right here on this website!\n",
        "3.    FAQ’s- You’re reading them!\n",
        "4.    Seminars, both live and archived. Live seminars can be found HERE. You can find archived items by clicking Support/Chat at the upper right-hand corner of the platform and select “Seminars”.\n",
        "5.    Videos on https://tdameritradenetwork.com/. Platform demo: HERE.\n",
        "6.    thinkScript® Manual can be found HERE.\"\"\".strip(),\n",
        "    file_path=\"qiestion_9.txt\",\n",
        ")\n",
        "write_file(\n",
        "    question=\"How do I fund my account?\",\n",
        "    answer=\"\"\"You can fund your account through an Electronic ACH, wire, check, ACAT transfer, internal transfer or by depositing securities. To get started, log into your account at www.tdameritrade.com and navigate to Accounts>Deposit/Withdraw. Depending on the method you choose to fund the account, appropriate instructions will be provided to you accordingly. You will find more details here: https://www.tdameritrade.com/funding-and-transfers.page\n",
        "How do I set a default account on the platform?\n",
        "\n",
        "If you have multiple accounts under a particular username and wish to change the default account, please go to the upper right-corner of the platform and select Setup>Application Settings>General>Account and click the drop down box next to \"Default account\" to make your selection. Once you are done, click \"Apply Settings\". You will then want to be sure and save your workspace so these settings are retained. Go to Setup>Save Workspace As… to save a new workspace or resave an existing workspace.\"\"\".strip(),\n",
        "    file_path=\"qiestion_10.txt\",\n",
        ")\n",
        "write_file(\n",
        "    question=\"Where can I check the margin requirements/trading hours for Futures?\",\n",
        "    answer=\"\"\"You can view trading hours and other futures product specs on the TD Ameritrade website.\n",
        "\n",
        "To view margin requirements, login to the thinkorswim platform and go to a symbol entry box (either in the Trade tab or the Charts tab). You will see a down arrow to the right of the entry field; click it to reveal the symbol table. Here click on the Futures button to see things like the symbol, description, tick size, tick value, and initial margin.\"\"\".strip(),\n",
        "    file_path=\"qiestion_11.txt\",\n",
        ")\n",
        "write_file(\n",
        "    question=\"How do I link my accounts?\",\n",
        "    answer=\"\"\"You would do this through the TD Ameritrade website. Log into the account then follow Client Services>My Profile>Link Accounts>Link my accounts>Grant access. Please note, you must accept the Account Linking Agreement prior to submitting an access request. Once entered, the person getting the link request would have to log in and follow the same steps to approve any linking requests pending review.\"\"\".strip(),\n",
        "    file_path=\"qiestion_12.txt\",\n",
        ")\n",
        "write_file(\n",
        "    question=\"How do I change my account nickname?\",\n",
        "    answer=\"\"\"To change nicknames, please log in at www.tdameritrade.com > navigate to Client Services > My Profile > Link Accounts > Manage linked accounts, then select “Edit nickname” next to the account that you would like to change, enter the new name, and save.\"\"\".strip(),\n",
        "    file_path=\"qiestion_13.txt\",\n",
        ")\n",
        "write_file(\n",
        "    question=\"Where can I download the platform?\",\n",
        "    answer=\"\"\"Please download the platform by logging into your account at www.tdameritrade.com and click on Trade>Trading Platforms>thinkorswim>Download thinkorswim.\"\"\".strip(),\n",
        "    file_path=\"qiestion_14.txt\",\n",
        ")\n",
        "write_file(\n",
        "    question=\"How do I add or remove the Home Screen?\",\n",
        "    answer=\"\"\"Click on Setup>Application Settings>General>Startup>Screen shown on startup, then select one of the listed options and click ‘Apply settings’.\"\"\".strip(),\n",
        "    file_path=\"qiestion_15.txt\",\n",
        ")\n",
        "write_file(\n",
        "    question=\"How do I change my nickname in the chatrooms? \",\n",
        "    answer=\"\"\"Please click on Setup>Application Settings>My profile>Nickname, once you are done making changes click ‘Apply settings’.\"\"\".strip(),\n",
        "    file_path=\"qiestion_16.txt\",\n",
        ")\n",
        "write_file(\n",
        "    question=\"What does PDT stand for?\",\n",
        "    answer=\"\"\"PDT stands for ‘pattern day trader’.  If you make more than 3 day trades in any 5 business day period, you will be flagged as a pattern day trader.  As long as you maintain a net liquidating value above $25,000, there will not be any adverse effects to your account.’.\"\"\".strip(),\n",
        "    file_path=\"qiestion_17.txt\",\n",
        ")\n",
        "write_file(\n",
        "    question=\"What is Net Liq? \",\n",
        "    answer=\"\"\"Net Liq, or Net Liquidating Value, represents the value of your account if all stock positions were liquidated at the mark.\n",
        "\n",
        "With regards to options, the mark price used is the mid-point between the bid and ask.\n",
        "\n",
        "The Mark Price for other underlying instruments is calculated by the following formula:\n",
        "\n",
        "    If BID and ASK are both NaN or zero, or inverted, then it is equal Last Price\n",
        "    If Last is between BID and ASK, then it is equal to Last Price\n",
        "    If LAST is above ASK, then it is equal to ASK\n",
        "    If LAST is below BID, then it is equal to BID\"\"\".strip(),\n",
        "    file_path=\"qiestion_18.txt\",\n",
        ")\n",
        "write_file(\n",
        "    question=\"What is Level II?\",\n",
        "    answer=\"\"\"Level II displays the best prices for each of the exchanges making markets in stocks and options.\"\"\".strip(),\n",
        "    file_path=\"qiestion_19.txt\",\n",
        ")\n",
        "write_file(\n",
        "    question=\"What is Time and Sales?\",\n",
        "    answer=\"\"\"Time and Sales displays a record for every trade that happened for the specified product intraday including a record of time, price and volume of each transaction.\"\"\".strip(),\n",
        "    file_path=\"qiestion_20.txt\",\n",
        ")\n",
        "write_file(\n",
        "    question=\"What is Portfolio Margin?\",\n",
        "    answer=\"\"\"A specific type of account margining that bases the account’s minimum requirements and available buying power upon the overall position risk in the account. Portfolio margining involves a great deal more risk than cash accounts and is not suitable for all investors. Contact TD Ameritrade at 800-669-3900 for more details\"\"\".strip(),\n",
        "    file_path=\"qiestion_21.txt\",\n",
        ")\n",
        "write_file(\n",
        "    question=\"What is MMM? \",\n",
        "    answer=\"\"\"MMM, or Market Maker Move, measures the expected magnitude of price movement based on market volatility.  It measures the implied move based on volatility differential between the front and back month.  The MMM helps to identify the implied move due to an event between now and the front month expiration (if an event exists).\"\"\".strip(),\n",
        "    file_path=\"qiestion_22.txt\",\n",
        ")\n",
        "write_file(\n",
        "    question=\"What is implied volatility?\",\n",
        "    answer=\"\"\"Implied volatility is an estimate of the volatility of the underlying stock that is derived from the market value of an option.  Implied volatility is the volatility number that, if plugged into a theoretical pricing model along with all the other inputs, would yield a theoretical value of an option equal to the market price of the same option.\"\"\".strip(),\n",
        "    file_path=\"qiestion_23.txt\",\n",
        ")\n",
        "write_file(\n",
        "    question=\"What is Futures Intraday Margining?\",\n",
        "    answer=\"\"\"Futures Intraday Margining is the reduced holding requirement as compared to the initial or overnight margin requirement for futures trading available intraday.  The rate is generally 25% of the margin requirement for a particular product but can change at any time without notice.  The minimum net liquidation value of $15,000 is required to be eligible.  Intraday margin applies between the hours of 8:30 a.m. CT and 3 p.m. CT.\"\"\".strip(),\n",
        "    file_path=\"qiestion_24.txt\",\n",
        ")\n",
        "write_file(\n",
        "    question=\"What is the Product Depth Curve?\",\n",
        "    answer=\"\"\"The Product Depth Curve is a graphical representation of the market price of each contract month for any given futures product. We display this as price over the expiration month of the product.  This allows you to easily display Inverted and Normal curves in the futures product that you choose.\"\"\".strip(),\n",
        "    file_path=\"qiestion_25.txt\",\n",
        ")"
      ],
      "metadata": {
        "id": "7soEBP8qD0Vp"
      },
      "execution_count": null,
      "outputs": []
    },
    {
      "cell_type": "code",
      "source": [
        "DEVICE = \"cuda:0\" if torch.cuda.is_available() else \"cpu\"\n",
        "DEVICE"
      ],
      "metadata": {
        "colab": {
          "base_uri": "https://localhost:8080/",
          "height": 35
        },
        "id": "bwOy5U3fD5BZ",
        "outputId": "e55ed8af-7154-41e5-b683-6a476b4e313e"
      },
      "execution_count": null,
      "outputs": [
        {
          "output_type": "execute_result",
          "data": {
            "text/plain": [
              "'cuda:0'"
            ],
            "application/vnd.google.colaboratory.intrinsic+json": {
              "type": "string"
            }
          },
          "metadata": {},
          "execution_count": 5
        }
      ]
    },
    {
      "cell_type": "code",
      "source": [
        "model_name_or_path = \"TheBloke/Nous-Hermes-13B-GPTQ\"\n",
        "model_basename = \"nous-hermes-13b-GPTQ-4bit-128g.no-act.order\"\n",
        "\n",
        "use_triton = False\n",
        "\n",
        "tokenizer = AutoTokenizer.from_pretrained(model_name_or_path, use_fast=True)\n",
        "\n",
        "model = AutoGPTQForCausalLM.from_quantized(model_name_or_path,\n",
        "        model_basename=model_basename,\n",
        "        use_safetensors=True,\n",
        "        trust_remote_code=True,\n",
        "        device=DEVICE,\n",
        "        use_triton=use_triton,\n",
        "        quantize_config=None)"
      ],
      "metadata": {
        "colab": {
          "base_uri": "https://localhost:8080/"
        },
        "id": "qRS1up5hD6zZ",
        "outputId": "ad87b779-077d-420c-a460-0cec293c368d"
      },
      "execution_count": null,
      "outputs": [
        {
          "output_type": "stream",
          "name": "stderr",
          "text": [
            "WARNING:accelerate.utils.modeling:The safetensors archive passed at /root/.cache/huggingface/hub/models--TheBloke--Nous-Hermes-13B-GPTQ/snapshots/d4618f374d36ff4cecac6ca13827f8388ebf9cc2/nous-hermes-13b-GPTQ-4bit-128g.no-act.order.safetensors does not contain metadata. Make sure to save your model with the `save_pretrained` method. Defaulting to 'pt' metadata.\n",
            "WARNING:auto_gptq.nn_modules.fused_llama_mlp:skip module injection for FusedLlamaMLPForQuantizedModel not support integrate without triton yet.\n"
          ]
        }
      ]
    },
    {
      "cell_type": "code",
      "source": [
        "generation_config = GenerationConfig.from_pretrained(model_name_or_path)\n",
        "generation_config"
      ],
      "metadata": {
        "colab": {
          "base_uri": "https://localhost:8080/"
        },
        "id": "bvKdP_jbVKKv",
        "outputId": "4d3e4259-db77-454e-b82f-906e869e9340"
      },
      "execution_count": null,
      "outputs": [
        {
          "output_type": "execute_result",
          "data": {
            "text/plain": [
              "GenerationConfig {\n",
              "  \"_from_model_config\": true,\n",
              "  \"bos_token_id\": 1,\n",
              "  \"eos_token_id\": 2,\n",
              "  \"pad_token_id\": 0,\n",
              "  \"transformers_version\": \"4.30.2\"\n",
              "}"
            ]
          },
          "metadata": {},
          "execution_count": 7
        }
      ]
    },
    {
      "cell_type": "code",
      "source": [
        "question = (\n",
        "    \"Which is better Java or Python?\"\n",
        ")\n",
        "prompt = f\"\"\"\n",
        "### Instructions: {question}\n",
        "### Response:\n",
        "\"\"\".strip()"
      ],
      "metadata": {
        "id": "-RzvzW1OZgVL"
      },
      "execution_count": null,
      "outputs": []
    },
    {
      "cell_type": "code",
      "source": [
        "%%time\n",
        "input_ids = tokenizer(prompt, return_tensors='pt').input_ids.to(DEVICE)\n",
        "with torch.inference_mode():\n",
        "  output = model.generate(\n",
        "      inputs=input_ids,\n",
        "      temperature=0.5,\n",
        "      max_new_tokens=512)\n"
      ],
      "metadata": {
        "colab": {
          "base_uri": "https://localhost:8080/"
        },
        "id": "Ob9lpYUKZery",
        "outputId": "6d7f68eb-2624-469d-cb56-3e3ba96b9e46"
      },
      "execution_count": null,
      "outputs": [
        {
          "output_type": "stream",
          "name": "stdout",
          "text": [
            "CPU times: user 8.07 s, sys: 562 ms, total: 8.64 s\n",
            "Wall time: 11.2 s\n"
          ]
        }
      ]
    },
    {
      "cell_type": "code",
      "source": [
        "streamer = TextStreamer(\n",
        "    tokenizer,\n",
        "    skip_prompt=True,\n",
        "    skip_special_tokens=True,\n",
        "    use_multiprocessing=False\n",
        ")"
      ],
      "metadata": {
        "id": "x8DjCFLDVOmO"
      },
      "execution_count": null,
      "outputs": []
    },
    {
      "cell_type": "code",
      "source": [
        "# Inference can also be done using transformers' pipeline\n",
        "# Prevent printing spurious transformers error when using pipeline with AutoGPTQ\n",
        "logging.set_verbosity(logging.CRITICAL)\n",
        "\n",
        "pipe = pipeline(\n",
        "    \"text-generation\",\n",
        "    model=model,\n",
        "    tokenizer=tokenizer,\n",
        "    max_length=2048,\n",
        "    temperature=0,\n",
        "    top_p=0.9,\n",
        "    repetition_penalty=1.2,\n",
        "    generation_config=generation_config,\n",
        "    streamer=streamer,\n",
        "    batch_size=1,\n",
        ")"
      ],
      "metadata": {
        "id": "3icYzG02ZsCd"
      },
      "execution_count": null,
      "outputs": []
    },
    {
      "cell_type": "code",
      "source": [
        "llm = HuggingFacePipeline(pipeline=pipe)\n",
        "responce = llm(prompt)"
      ],
      "metadata": {
        "colab": {
          "base_uri": "https://localhost:8080/"
        },
        "id": "D7_gKJ-gZzY9",
        "outputId": "e3ab8298-1d78-4d6c-f302-0067cbe1da32"
      },
      "execution_count": null,
      "outputs": [
        {
          "output_type": "stream",
          "name": "stdout",
          "text": [
            "Both Java and Python are popular programming languages with their own strengths and weaknesses. It ultimately depends on the specific use case, personal preference, and expertise of the programmer.\n"
          ]
        }
      ]
    },
    {
      "cell_type": "code",
      "source": [
        "model = SentenceTransformer(\"embaas/sentence-transformers-multilingual-e5-base\")"
      ],
      "metadata": {
        "id": "JfMTtOurZ-hd"
      },
      "execution_count": null,
      "outputs": []
    },
    {
      "cell_type": "code",
      "source": [
        "embeddings = HuggingFaceEmbeddings(\n",
        "    model_name='embaas/sentence-transformers-multilingual-e5-base',\n",
        "    model_kwargs={\"device\":DEVICE}\n",
        ")"
      ],
      "metadata": {
        "id": "Hi6hwG1hU8c1"
      },
      "execution_count": null,
      "outputs": []
    },
    {
      "cell_type": "code",
      "source": [
        "DEFAULT_TEMPLATE = \"\"\"\n",
        "### Instructions: You are thinkorswim chat agent with a name: Lucy an A.I TLC chat agent, that is talking to a customer.\n",
        "Use only the chat history, and the following information{context}.\n",
        "to answer in a helpful and polite manner to the question. If you don't know the answer - make an excuse and say that you don't know.\n",
        "Keep your replies short, compassionate and informative.\n",
        "{chat_history}\n",
        "### Input: {question}\n",
        "### Response:\n",
        "\"\"\".strip()\n",
        "\n",
        "class Chatbot:\n",
        "    def __init__(\n",
        "        self,\n",
        "        text_pipeline: HuggingFacePipeline,\n",
        "        embeddings: HuggingFaceEmbeddings,\n",
        "        documents_dir: Path,\n",
        "        prompt_template: str = DEFAULT_TEMPLATE,\n",
        "        verbose: bool = False,\n",
        "    ):\n",
        "        prompt = PromptTemplate(\n",
        "            input_variables=[\"context\", \"question\", \"chat_history\"],\n",
        "            template = prompt_template,\n",
        "        )\n",
        "        self.chain = self._create_chain(text_pipeline, prompt, verbose)\n",
        "        self.db = self._embed_data(documents_dir, embeddings)\n",
        "\n",
        "    def _create_chain(\n",
        "        self,\n",
        "        text_pipeline: HuggingFacePipeline,\n",
        "        prompt: PromptTemplate,\n",
        "        verbose: bool = False,\n",
        "    ):\n",
        "        memory = ConversationBufferMemory(\n",
        "            memory_key = \"chat_history\",\n",
        "            human_prefix = \"### Input\",\n",
        "            ai_prefix = \"### Response\",\n",
        "            input_key = \"question\",\n",
        "            output_key = \"output_text\",\n",
        "            return_messages=False,\n",
        "        )\n",
        "        return load_qa_chain(\n",
        "            text_pipeline,\n",
        "            chain_type=\"stuff\",\n",
        "            prompt=prompt,\n",
        "            memory=memory,\n",
        "            verbose=verbose,\n",
        "        )\n",
        "\n",
        "    def _embed_data(\n",
        "        self, documents_dir: Path, embeddings: HuggingFaceEmbeddings\n",
        "      ) -> Chroma:\n",
        "          loader = DirectoryLoader(documents_dir, glob=\"**/*txt\")\n",
        "          documents = loader.load()\n",
        "          text_splitter = CharacterTextSplitter(chunk_size=512, chunk_overlap=0)\n",
        "          texts = text_splitter.split_documents(documents)\n",
        "          return Chroma.from_documents(texts, embeddings)\n",
        "\n",
        "    def __call__(self, user_input: str) -> str:\n",
        "        docs = self.db.similarity_search(user_input)\n",
        "        return self.chain.run({\"input_documents\": docs, \"question\": user_input})\n"
      ],
      "metadata": {
        "id": "qCfECe_EFBPW"
      },
      "execution_count": null,
      "outputs": []
    },
    {
      "cell_type": "code",
      "source": [
        "chatbot = Chatbot(llm, embeddings, \"./tlc/\")"
      ],
      "metadata": {
        "colab": {
          "base_uri": "https://localhost:8080/"
        },
        "id": "lHhmPTwhFFlJ",
        "outputId": "b37f63ff-aeb9-4eff-fbce-631236375973"
      },
      "execution_count": null,
      "outputs": [
        {
          "output_type": "stream",
          "name": "stderr",
          "text": [
            "WARNING:langchain.text_splitter:Created a chunk of size 573, which is longer than the specified 512\n",
            "WARNING:langchain.text_splitter:Created a chunk of size 702, which is longer than the specified 512\n",
            "WARNING:langchain.text_splitter:Created a chunk of size 519, which is longer than the specified 512\n",
            "WARNING:langchain.text_splitter:Created a chunk of size 587, which is longer than the specified 512\n",
            "WARNING:langchain.text_splitter:Created a chunk of size 587, which is longer than the specified 512\n",
            "WARNING:langchain.text_splitter:Created a chunk of size 824, which is longer than the specified 512\n",
            "WARNING:langchain.text_splitter:Created a chunk of size 633, which is longer than the specified 512\n",
            "WARNING:langchain.text_splitter:Created a chunk of size 573, which is longer than the specified 512\n",
            "WARNING:langchain.text_splitter:Created a chunk of size 702, which is longer than the specified 512\n",
            "WARNING:langchain.text_splitter:Created a chunk of size 519, which is longer than the specified 512\n",
            "WARNING:langchain.text_splitter:Created a chunk of size 824, which is longer than the specified 512\n"
          ]
        }
      ]
    },
    {
      "cell_type": "code",
      "source": [
        "warnings.filterwarnings(\"ignore\", category=UserWarning)\n",
        "\n",
        "while True:\n",
        "    user_input = input(\"Question: \")\n",
        "    if user_input.lower() in [\"bye\", \"goodbye\", \"see ya\", \"thank you bye\"]:\n",
        "        break\n",
        "    answer = chatbot(user_input)\n",
        "    print()"
      ],
      "metadata": {
        "colab": {
          "base_uri": "https://localhost:8080/"
        },
        "id": "NUqwIj0pFLrV",
        "outputId": "37925402-fafa-4114-fe10-52fc1d6458aa"
      },
      "execution_count": null,
      "outputs": [
        {
          "name": "stdout",
          "output_type": "stream",
          "text": [
            "Question: hello\n",
            "Hi there! How may I assist you today?\n",
            "\n",
            "Question: what's your name?\n",
            "My name is Lucy, how can I help you?\n",
            "\n",
            "Question: what are you\n",
            "I am a virtual assistant designed to provide support for our customers.\n",
            "\n",
            "Question: bye\n"
          ]
        }
      ]
    }
  ]
}